{
 "cells": [
  {
   "cell_type": "code",
   "execution_count": 4,
   "metadata": {},
   "outputs": [],
   "source": [
    "import os\n",
    "import sys\n",
    "\n",
    "sPath = '/Users/alfredyu/Desktop/Test_Code'\n",
    "dPath = '/Users/alfredyu/Desktop/Test_Code'\n",
    "files = os.listdir(sPath)\n",
    "\n",
    "for file in files:\n",
    "    if file.endswith(\".txt\"):\n",
    "        filename, file_extension = os.path.splitext(file)\n",
    "        path = os.path.join(dPath, filename)\n",
    "        os.mkdir(path)\n",
    "\n",
    "        prevName = os.path.join(sPath, file)\n",
    "        newName = os.path.join(path, file)\n",
    "        \n",
    "        os.rename(prevName, newName)\n",
    "\n",
    "    "
   ]
  },
  {
   "cell_type": "code",
   "execution_count": null,
   "metadata": {},
   "outputs": [],
   "source": []
  }
 ],
 "metadata": {
  "kernelspec": {
   "display_name": "Python 3",
   "language": "python",
   "name": "python3"
  },
  "language_info": {
   "codemirror_mode": {
    "name": "ipython",
    "version": 3
   },
   "file_extension": ".py",
   "mimetype": "text/x-python",
   "name": "python",
   "nbconvert_exporter": "python",
   "pygments_lexer": "ipython3",
   "version": "3.7.1"
  }
 },
 "nbformat": 4,
 "nbformat_minor": 2
}
